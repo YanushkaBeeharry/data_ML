{
  "nbformat": 4,
  "nbformat_minor": 0,
  "metadata": {
    "colab": {
      "provenance": []
    },
    "kernelspec": {
      "name": "python3",
      "display_name": "Python 3"
    },
    "language_info": {
      "name": "python"
    },
    "accelerator": "GPU",
    "gpuClass": "premium"
  },
  "cells": [
    {
      "cell_type": "code",
      "execution_count": 7,
      "metadata": {
        "id": "HPpEMFBznZCV",
        "colab": {
          "base_uri": "https://localhost:8080/"
        },
        "outputId": "7d810196-80d5-46c1-f5ea-6e043c9b2bb8"
      },
      "outputs": [
        {
          "output_type": "stream",
          "name": "stdout",
          "text": [
            "Found GPU at: /device:GPU:0\n",
            "/data_ML/input/artists.csv\n",
            "/data_ML/input/tracks.csv\n"
          ]
        }
      ],
      "source": [
        "import numpy as np \n",
        "import pandas as pd \n",
        "import matplotlib.pyplot as plt\n",
        "%matplotlib inline\n",
        "import seaborn as sns\n",
        "import xgboost as xgb\n",
        "import os\n",
        "\n",
        "\n",
        "from sklearn.model_selection import train_test_split\n",
        "from sklearn.metrics import mean_squared_error\n",
        "from sklearn.metrics import r2_score\n",
        "from sklearn.ensemble import RandomForestRegressor\n",
        "from sklearn.ensemble import RandomForestClassifier\n",
        "from sklearn import tree\n",
        "from matplotlib.legend_handler import HandlerLine2D\n",
        "\n",
        "\n",
        "import lightgbm as lgb \n",
        "!pip install --quiet optuna\n",
        "import optuna\n",
        "import sklearn.metrics\n",
        "from optuna.integration import XGBoostPruningCallback\n",
        "from sklearn.ensemble import HistGradientBoostingRegressor\n",
        "from sklearn.model_selection import train_test_split\n",
        "from sklearn import datasets\n",
        "from sklearn.metrics import mean_absolute_error\n",
        "import xgboost as xgb\n",
        "from sklearn.metrics import accuracy_score\n",
        "\n",
        "import tensorflow as tf\n",
        "device_name = tf.test.gpu_device_name()\n",
        "if device_name != '/device:GPU:0':\n",
        "  raise SystemError('GPU device not found')\n",
        "print('Found GPU at: {}'.format(device_name))\n",
        "\n",
        "for dirname, _, filenames in os.walk('/data_ML/input'):\n",
        "    for filename in filenames:\n",
        "        print(os.path.join(dirname, filename))\n",
        "\n",
        "#parameters setting\n",
        "start_release_year = 2008\n",
        "speechiness_level = 0.66\n",
        "corr_par = 0.1\n",
        "seed = 42\n",
        "ev_metric = 'rmse' # eval metric for xgb # 'rmse', 'error'...\n"
      ]
    },
    {
      "cell_type": "code",
      "source": [
        "tracks_df = pd.read_csv('/data_ML/input/tracks.csv')\n",
        "artists_df = pd.read_csv('/data_ML/input/artists.csv')\n",
        "print(tracks_df.shape,artists_df.shape)"
      ],
      "metadata": {
        "id": "RWKI_TsXp4fU",
        "colab": {
          "base_uri": "https://localhost:8080/"
        },
        "outputId": "fcca2dbc-8591-4db4-e91d-885a9b44e5b8"
      },
      "execution_count": 8,
      "outputs": [
        {
          "output_type": "stream",
          "name": "stdout",
          "text": [
            "(586672, 20) (1162095, 5)\n"
          ]
        }
      ]
    },
    {
      "cell_type": "code",
      "source": [
        "tracks_df.head()"
      ],
      "metadata": {
        "id": "A120DKfbqJXi",
        "colab": {
          "base_uri": "https://localhost:8080/",
          "height": 374
        },
        "outputId": "2527c5a7-c6ee-4712-936f-bb630ebcc45e"
      },
      "execution_count": 9,
      "outputs": [
        {
          "output_type": "execute_result",
          "data": {
            "text/plain": [
              "                       id                                 name  popularity  \\\n",
              "0  35iwgR4jXetI318WEWsa1Q                                Carve           6   \n",
              "1  021ht4sdgPcrDgSk7JTbKY  Capítulo 2.16 - Banquero Anarquista           0   \n",
              "2  07A5yehtSnoedViJAZkNnc   Vivo para Quererte - Remasterizado           0   \n",
              "3  08FmqUhxtyLTn6pAh6bk45        El Prisionero - Remasterizado           0   \n",
              "4  08y9GfoqCWfOGsKdwojr5e                  Lady of the Evening           0   \n",
              "\n",
              "   duration_ms  explicit              artists                  id_artists  \\\n",
              "0       126903         0              ['Uli']  ['45tIt06XoI0Iio4LBEVpls']   \n",
              "1        98200         0  ['Fernando Pessoa']  ['14jtPCOoNZwquk5wd9DxrY']   \n",
              "2       181640         0  ['Ignacio Corsini']  ['5LiOoJbxVSAMkBS2fUm3X2']   \n",
              "3       176907         0  ['Ignacio Corsini']  ['5LiOoJbxVSAMkBS2fUm3X2']   \n",
              "4       163080         0      ['Dick Haymes']  ['3BiJGZsyX9sJchTqcSA7Su']   \n",
              "\n",
              "  release_date  danceability  energy  key  loudness  mode  speechiness  \\\n",
              "0   1922-02-22         0.645  0.4450    0   -13.338     1       0.4510   \n",
              "1   1922-06-01         0.695  0.2630    0   -22.136     1       0.9570   \n",
              "2   1922-03-21         0.434  0.1770    1   -21.180     1       0.0512   \n",
              "3   1922-03-21         0.321  0.0946    7   -27.961     1       0.0504   \n",
              "4         1922         0.402  0.1580    3   -16.900     0       0.0390   \n",
              "\n",
              "   acousticness  instrumentalness  liveness  valence    tempo  time_signature  \n",
              "0         0.674            0.7440     0.151    0.127  104.851               3  \n",
              "1         0.797            0.0000     0.148    0.655  102.009               1  \n",
              "2         0.994            0.0218     0.212    0.457  130.418               5  \n",
              "3         0.995            0.9180     0.104    0.397  169.980               3  \n",
              "4         0.989            0.1300     0.311    0.196  103.220               4  "
            ],
            "text/html": [
              "\n",
              "  <div id=\"df-552f7016-2ced-451a-beca-b897c967ac42\">\n",
              "    <div class=\"colab-df-container\">\n",
              "      <div>\n",
              "<style scoped>\n",
              "    .dataframe tbody tr th:only-of-type {\n",
              "        vertical-align: middle;\n",
              "    }\n",
              "\n",
              "    .dataframe tbody tr th {\n",
              "        vertical-align: top;\n",
              "    }\n",
              "\n",
              "    .dataframe thead th {\n",
              "        text-align: right;\n",
              "    }\n",
              "</style>\n",
              "<table border=\"1\" class=\"dataframe\">\n",
              "  <thead>\n",
              "    <tr style=\"text-align: right;\">\n",
              "      <th></th>\n",
              "      <th>id</th>\n",
              "      <th>name</th>\n",
              "      <th>popularity</th>\n",
              "      <th>duration_ms</th>\n",
              "      <th>explicit</th>\n",
              "      <th>artists</th>\n",
              "      <th>id_artists</th>\n",
              "      <th>release_date</th>\n",
              "      <th>danceability</th>\n",
              "      <th>energy</th>\n",
              "      <th>key</th>\n",
              "      <th>loudness</th>\n",
              "      <th>mode</th>\n",
              "      <th>speechiness</th>\n",
              "      <th>acousticness</th>\n",
              "      <th>instrumentalness</th>\n",
              "      <th>liveness</th>\n",
              "      <th>valence</th>\n",
              "      <th>tempo</th>\n",
              "      <th>time_signature</th>\n",
              "    </tr>\n",
              "  </thead>\n",
              "  <tbody>\n",
              "    <tr>\n",
              "      <th>0</th>\n",
              "      <td>35iwgR4jXetI318WEWsa1Q</td>\n",
              "      <td>Carve</td>\n",
              "      <td>6</td>\n",
              "      <td>126903</td>\n",
              "      <td>0</td>\n",
              "      <td>['Uli']</td>\n",
              "      <td>['45tIt06XoI0Iio4LBEVpls']</td>\n",
              "      <td>1922-02-22</td>\n",
              "      <td>0.645</td>\n",
              "      <td>0.4450</td>\n",
              "      <td>0</td>\n",
              "      <td>-13.338</td>\n",
              "      <td>1</td>\n",
              "      <td>0.4510</td>\n",
              "      <td>0.674</td>\n",
              "      <td>0.7440</td>\n",
              "      <td>0.151</td>\n",
              "      <td>0.127</td>\n",
              "      <td>104.851</td>\n",
              "      <td>3</td>\n",
              "    </tr>\n",
              "    <tr>\n",
              "      <th>1</th>\n",
              "      <td>021ht4sdgPcrDgSk7JTbKY</td>\n",
              "      <td>Capítulo 2.16 - Banquero Anarquista</td>\n",
              "      <td>0</td>\n",
              "      <td>98200</td>\n",
              "      <td>0</td>\n",
              "      <td>['Fernando Pessoa']</td>\n",
              "      <td>['14jtPCOoNZwquk5wd9DxrY']</td>\n",
              "      <td>1922-06-01</td>\n",
              "      <td>0.695</td>\n",
              "      <td>0.2630</td>\n",
              "      <td>0</td>\n",
              "      <td>-22.136</td>\n",
              "      <td>1</td>\n",
              "      <td>0.9570</td>\n",
              "      <td>0.797</td>\n",
              "      <td>0.0000</td>\n",
              "      <td>0.148</td>\n",
              "      <td>0.655</td>\n",
              "      <td>102.009</td>\n",
              "      <td>1</td>\n",
              "    </tr>\n",
              "    <tr>\n",
              "      <th>2</th>\n",
              "      <td>07A5yehtSnoedViJAZkNnc</td>\n",
              "      <td>Vivo para Quererte - Remasterizado</td>\n",
              "      <td>0</td>\n",
              "      <td>181640</td>\n",
              "      <td>0</td>\n",
              "      <td>['Ignacio Corsini']</td>\n",
              "      <td>['5LiOoJbxVSAMkBS2fUm3X2']</td>\n",
              "      <td>1922-03-21</td>\n",
              "      <td>0.434</td>\n",
              "      <td>0.1770</td>\n",
              "      <td>1</td>\n",
              "      <td>-21.180</td>\n",
              "      <td>1</td>\n",
              "      <td>0.0512</td>\n",
              "      <td>0.994</td>\n",
              "      <td>0.0218</td>\n",
              "      <td>0.212</td>\n",
              "      <td>0.457</td>\n",
              "      <td>130.418</td>\n",
              "      <td>5</td>\n",
              "    </tr>\n",
              "    <tr>\n",
              "      <th>3</th>\n",
              "      <td>08FmqUhxtyLTn6pAh6bk45</td>\n",
              "      <td>El Prisionero - Remasterizado</td>\n",
              "      <td>0</td>\n",
              "      <td>176907</td>\n",
              "      <td>0</td>\n",
              "      <td>['Ignacio Corsini']</td>\n",
              "      <td>['5LiOoJbxVSAMkBS2fUm3X2']</td>\n",
              "      <td>1922-03-21</td>\n",
              "      <td>0.321</td>\n",
              "      <td>0.0946</td>\n",
              "      <td>7</td>\n",
              "      <td>-27.961</td>\n",
              "      <td>1</td>\n",
              "      <td>0.0504</td>\n",
              "      <td>0.995</td>\n",
              "      <td>0.9180</td>\n",
              "      <td>0.104</td>\n",
              "      <td>0.397</td>\n",
              "      <td>169.980</td>\n",
              "      <td>3</td>\n",
              "    </tr>\n",
              "    <tr>\n",
              "      <th>4</th>\n",
              "      <td>08y9GfoqCWfOGsKdwojr5e</td>\n",
              "      <td>Lady of the Evening</td>\n",
              "      <td>0</td>\n",
              "      <td>163080</td>\n",
              "      <td>0</td>\n",
              "      <td>['Dick Haymes']</td>\n",
              "      <td>['3BiJGZsyX9sJchTqcSA7Su']</td>\n",
              "      <td>1922</td>\n",
              "      <td>0.402</td>\n",
              "      <td>0.1580</td>\n",
              "      <td>3</td>\n",
              "      <td>-16.900</td>\n",
              "      <td>0</td>\n",
              "      <td>0.0390</td>\n",
              "      <td>0.989</td>\n",
              "      <td>0.1300</td>\n",
              "      <td>0.311</td>\n",
              "      <td>0.196</td>\n",
              "      <td>103.220</td>\n",
              "      <td>4</td>\n",
              "    </tr>\n",
              "  </tbody>\n",
              "</table>\n",
              "</div>\n",
              "      <button class=\"colab-df-convert\" onclick=\"convertToInteractive('df-552f7016-2ced-451a-beca-b897c967ac42')\"\n",
              "              title=\"Convert this dataframe to an interactive table.\"\n",
              "              style=\"display:none;\">\n",
              "        \n",
              "  <svg xmlns=\"http://www.w3.org/2000/svg\" height=\"24px\"viewBox=\"0 0 24 24\"\n",
              "       width=\"24px\">\n",
              "    <path d=\"M0 0h24v24H0V0z\" fill=\"none\"/>\n",
              "    <path d=\"M18.56 5.44l.94 2.06.94-2.06 2.06-.94-2.06-.94-.94-2.06-.94 2.06-2.06.94zm-11 1L8.5 8.5l.94-2.06 2.06-.94-2.06-.94L8.5 2.5l-.94 2.06-2.06.94zm10 10l.94 2.06.94-2.06 2.06-.94-2.06-.94-.94-2.06-.94 2.06-2.06.94z\"/><path d=\"M17.41 7.96l-1.37-1.37c-.4-.4-.92-.59-1.43-.59-.52 0-1.04.2-1.43.59L10.3 9.45l-7.72 7.72c-.78.78-.78 2.05 0 2.83L4 21.41c.39.39.9.59 1.41.59.51 0 1.02-.2 1.41-.59l7.78-7.78 2.81-2.81c.8-.78.8-2.07 0-2.86zM5.41 20L4 18.59l7.72-7.72 1.47 1.35L5.41 20z\"/>\n",
              "  </svg>\n",
              "      </button>\n",
              "      \n",
              "  <style>\n",
              "    .colab-df-container {\n",
              "      display:flex;\n",
              "      flex-wrap:wrap;\n",
              "      gap: 12px;\n",
              "    }\n",
              "\n",
              "    .colab-df-convert {\n",
              "      background-color: #E8F0FE;\n",
              "      border: none;\n",
              "      border-radius: 50%;\n",
              "      cursor: pointer;\n",
              "      display: none;\n",
              "      fill: #1967D2;\n",
              "      height: 32px;\n",
              "      padding: 0 0 0 0;\n",
              "      width: 32px;\n",
              "    }\n",
              "\n",
              "    .colab-df-convert:hover {\n",
              "      background-color: #E2EBFA;\n",
              "      box-shadow: 0px 1px 2px rgba(60, 64, 67, 0.3), 0px 1px 3px 1px rgba(60, 64, 67, 0.15);\n",
              "      fill: #174EA6;\n",
              "    }\n",
              "\n",
              "    [theme=dark] .colab-df-convert {\n",
              "      background-color: #3B4455;\n",
              "      fill: #D2E3FC;\n",
              "    }\n",
              "\n",
              "    [theme=dark] .colab-df-convert:hover {\n",
              "      background-color: #434B5C;\n",
              "      box-shadow: 0px 1px 3px 1px rgba(0, 0, 0, 0.15);\n",
              "      filter: drop-shadow(0px 1px 2px rgba(0, 0, 0, 0.3));\n",
              "      fill: #FFFFFF;\n",
              "    }\n",
              "  </style>\n",
              "\n",
              "      <script>\n",
              "        const buttonEl =\n",
              "          document.querySelector('#df-552f7016-2ced-451a-beca-b897c967ac42 button.colab-df-convert');\n",
              "        buttonEl.style.display =\n",
              "          google.colab.kernel.accessAllowed ? 'block' : 'none';\n",
              "\n",
              "        async function convertToInteractive(key) {\n",
              "          const element = document.querySelector('#df-552f7016-2ced-451a-beca-b897c967ac42');\n",
              "          const dataTable =\n",
              "            await google.colab.kernel.invokeFunction('convertToInteractive',\n",
              "                                                     [key], {});\n",
              "          if (!dataTable) return;\n",
              "\n",
              "          const docLinkHtml = 'Like what you see? Visit the ' +\n",
              "            '<a target=\"_blank\" href=https://colab.research.google.com/notebooks/data_table.ipynb>data table notebook</a>'\n",
              "            + ' to learn more about interactive tables.';\n",
              "          element.innerHTML = '';\n",
              "          dataTable['output_type'] = 'display_data';\n",
              "          await google.colab.output.renderOutput(dataTable, element);\n",
              "          const docLink = document.createElement('div');\n",
              "          docLink.innerHTML = docLinkHtml;\n",
              "          element.appendChild(docLink);\n",
              "        }\n",
              "      </script>\n",
              "    </div>\n",
              "  </div>\n",
              "  "
            ]
          },
          "metadata": {},
          "execution_count": 9
        }
      ]
    },
    {
      "cell_type": "code",
      "source": [
        "artists_df.head()"
      ],
      "metadata": {
        "id": "MylH927oCvIq",
        "colab": {
          "base_uri": "https://localhost:8080/",
          "height": 206
        },
        "outputId": "115c851c-ac1f-46ae-cffe-2566715d8ed2"
      },
      "execution_count": 10,
      "outputs": [
        {
          "output_type": "execute_result",
          "data": {
            "text/plain": [
              "                       id  followers genres  \\\n",
              "0  0DheY5irMjBUeLybbCUEZ2        0.0     []   \n",
              "1  0DlhY15l3wsrnlfGio2bjU        5.0     []   \n",
              "2  0DmRESX2JknGPQyO15yxg7        0.0     []   \n",
              "3  0DmhnbHjm1qw6NCYPeZNgJ        0.0     []   \n",
              "4  0Dn11fWM7vHQ3rinvWEl4E        2.0     []   \n",
              "\n",
              "                                             name  popularity  \n",
              "0  Armid & Amir Zare Pashai feat. Sara Rouzbehani           0  \n",
              "1                                     ปูนา ภาวิณี           0  \n",
              "2                                           Sadaa           0  \n",
              "3                                       Tra'gruda           0  \n",
              "4                          Ioannis Panoutsopoulos           0  "
            ],
            "text/html": [
              "\n",
              "  <div id=\"df-af76869d-53c3-4965-8bd3-a5d8acaa9085\">\n",
              "    <div class=\"colab-df-container\">\n",
              "      <div>\n",
              "<style scoped>\n",
              "    .dataframe tbody tr th:only-of-type {\n",
              "        vertical-align: middle;\n",
              "    }\n",
              "\n",
              "    .dataframe tbody tr th {\n",
              "        vertical-align: top;\n",
              "    }\n",
              "\n",
              "    .dataframe thead th {\n",
              "        text-align: right;\n",
              "    }\n",
              "</style>\n",
              "<table border=\"1\" class=\"dataframe\">\n",
              "  <thead>\n",
              "    <tr style=\"text-align: right;\">\n",
              "      <th></th>\n",
              "      <th>id</th>\n",
              "      <th>followers</th>\n",
              "      <th>genres</th>\n",
              "      <th>name</th>\n",
              "      <th>popularity</th>\n",
              "    </tr>\n",
              "  </thead>\n",
              "  <tbody>\n",
              "    <tr>\n",
              "      <th>0</th>\n",
              "      <td>0DheY5irMjBUeLybbCUEZ2</td>\n",
              "      <td>0.0</td>\n",
              "      <td>[]</td>\n",
              "      <td>Armid &amp; Amir Zare Pashai feat. Sara Rouzbehani</td>\n",
              "      <td>0</td>\n",
              "    </tr>\n",
              "    <tr>\n",
              "      <th>1</th>\n",
              "      <td>0DlhY15l3wsrnlfGio2bjU</td>\n",
              "      <td>5.0</td>\n",
              "      <td>[]</td>\n",
              "      <td>ปูนา ภาวิณี</td>\n",
              "      <td>0</td>\n",
              "    </tr>\n",
              "    <tr>\n",
              "      <th>2</th>\n",
              "      <td>0DmRESX2JknGPQyO15yxg7</td>\n",
              "      <td>0.0</td>\n",
              "      <td>[]</td>\n",
              "      <td>Sadaa</td>\n",
              "      <td>0</td>\n",
              "    </tr>\n",
              "    <tr>\n",
              "      <th>3</th>\n",
              "      <td>0DmhnbHjm1qw6NCYPeZNgJ</td>\n",
              "      <td>0.0</td>\n",
              "      <td>[]</td>\n",
              "      <td>Tra'gruda</td>\n",
              "      <td>0</td>\n",
              "    </tr>\n",
              "    <tr>\n",
              "      <th>4</th>\n",
              "      <td>0Dn11fWM7vHQ3rinvWEl4E</td>\n",
              "      <td>2.0</td>\n",
              "      <td>[]</td>\n",
              "      <td>Ioannis Panoutsopoulos</td>\n",
              "      <td>0</td>\n",
              "    </tr>\n",
              "  </tbody>\n",
              "</table>\n",
              "</div>\n",
              "      <button class=\"colab-df-convert\" onclick=\"convertToInteractive('df-af76869d-53c3-4965-8bd3-a5d8acaa9085')\"\n",
              "              title=\"Convert this dataframe to an interactive table.\"\n",
              "              style=\"display:none;\">\n",
              "        \n",
              "  <svg xmlns=\"http://www.w3.org/2000/svg\" height=\"24px\"viewBox=\"0 0 24 24\"\n",
              "       width=\"24px\">\n",
              "    <path d=\"M0 0h24v24H0V0z\" fill=\"none\"/>\n",
              "    <path d=\"M18.56 5.44l.94 2.06.94-2.06 2.06-.94-2.06-.94-.94-2.06-.94 2.06-2.06.94zm-11 1L8.5 8.5l.94-2.06 2.06-.94-2.06-.94L8.5 2.5l-.94 2.06-2.06.94zm10 10l.94 2.06.94-2.06 2.06-.94-2.06-.94-.94-2.06-.94 2.06-2.06.94z\"/><path d=\"M17.41 7.96l-1.37-1.37c-.4-.4-.92-.59-1.43-.59-.52 0-1.04.2-1.43.59L10.3 9.45l-7.72 7.72c-.78.78-.78 2.05 0 2.83L4 21.41c.39.39.9.59 1.41.59.51 0 1.02-.2 1.41-.59l7.78-7.78 2.81-2.81c.8-.78.8-2.07 0-2.86zM5.41 20L4 18.59l7.72-7.72 1.47 1.35L5.41 20z\"/>\n",
              "  </svg>\n",
              "      </button>\n",
              "      \n",
              "  <style>\n",
              "    .colab-df-container {\n",
              "      display:flex;\n",
              "      flex-wrap:wrap;\n",
              "      gap: 12px;\n",
              "    }\n",
              "\n",
              "    .colab-df-convert {\n",
              "      background-color: #E8F0FE;\n",
              "      border: none;\n",
              "      border-radius: 50%;\n",
              "      cursor: pointer;\n",
              "      display: none;\n",
              "      fill: #1967D2;\n",
              "      height: 32px;\n",
              "      padding: 0 0 0 0;\n",
              "      width: 32px;\n",
              "    }\n",
              "\n",
              "    .colab-df-convert:hover {\n",
              "      background-color: #E2EBFA;\n",
              "      box-shadow: 0px 1px 2px rgba(60, 64, 67, 0.3), 0px 1px 3px 1px rgba(60, 64, 67, 0.15);\n",
              "      fill: #174EA6;\n",
              "    }\n",
              "\n",
              "    [theme=dark] .colab-df-convert {\n",
              "      background-color: #3B4455;\n",
              "      fill: #D2E3FC;\n",
              "    }\n",
              "\n",
              "    [theme=dark] .colab-df-convert:hover {\n",
              "      background-color: #434B5C;\n",
              "      box-shadow: 0px 1px 3px 1px rgba(0, 0, 0, 0.15);\n",
              "      filter: drop-shadow(0px 1px 2px rgba(0, 0, 0, 0.3));\n",
              "      fill: #FFFFFF;\n",
              "    }\n",
              "  </style>\n",
              "\n",
              "      <script>\n",
              "        const buttonEl =\n",
              "          document.querySelector('#df-af76869d-53c3-4965-8bd3-a5d8acaa9085 button.colab-df-convert');\n",
              "        buttonEl.style.display =\n",
              "          google.colab.kernel.accessAllowed ? 'block' : 'none';\n",
              "\n",
              "        async function convertToInteractive(key) {\n",
              "          const element = document.querySelector('#df-af76869d-53c3-4965-8bd3-a5d8acaa9085');\n",
              "          const dataTable =\n",
              "            await google.colab.kernel.invokeFunction('convertToInteractive',\n",
              "                                                     [key], {});\n",
              "          if (!dataTable) return;\n",
              "\n",
              "          const docLinkHtml = 'Like what you see? Visit the ' +\n",
              "            '<a target=\"_blank\" href=https://colab.research.google.com/notebooks/data_table.ipynb>data table notebook</a>'\n",
              "            + ' to learn more about interactive tables.';\n",
              "          element.innerHTML = '';\n",
              "          dataTable['output_type'] = 'display_data';\n",
              "          await google.colab.output.renderOutput(dataTable, element);\n",
              "          const docLink = document.createElement('div');\n",
              "          docLink.innerHTML = docLinkHtml;\n",
              "          element.appendChild(docLink);\n",
              "        }\n",
              "      </script>\n",
              "    </div>\n",
              "  </div>\n",
              "  "
            ]
          },
          "metadata": {},
          "execution_count": 10
        }
      ]
    },
    {
      "cell_type": "code",
      "source": [
        "tracks_df['id_artists'] = [i[2:-2] for i in tracks_df['id_artists']]\n",
        "tracks_df['release_year'] = [int(i.split('-')[0]) for i in tracks_df['release_date']]\n",
        "tracks_df.head()"
      ],
      "metadata": {
        "id": "IAwSJbE5qciL",
        "colab": {
          "base_uri": "https://localhost:8080/",
          "height": 404
        },
        "outputId": "83b29872-d0b1-47fb-aa56-0dd1b431511e"
      },
      "execution_count": 11,
      "outputs": [
        {
          "output_type": "execute_result",
          "data": {
            "text/plain": [
              "                       id                                 name  popularity  \\\n",
              "0  35iwgR4jXetI318WEWsa1Q                                Carve           6   \n",
              "1  021ht4sdgPcrDgSk7JTbKY  Capítulo 2.16 - Banquero Anarquista           0   \n",
              "2  07A5yehtSnoedViJAZkNnc   Vivo para Quererte - Remasterizado           0   \n",
              "3  08FmqUhxtyLTn6pAh6bk45        El Prisionero - Remasterizado           0   \n",
              "4  08y9GfoqCWfOGsKdwojr5e                  Lady of the Evening           0   \n",
              "\n",
              "   duration_ms  explicit              artists              id_artists  \\\n",
              "0       126903         0              ['Uli']  45tIt06XoI0Iio4LBEVpls   \n",
              "1        98200         0  ['Fernando Pessoa']  14jtPCOoNZwquk5wd9DxrY   \n",
              "2       181640         0  ['Ignacio Corsini']  5LiOoJbxVSAMkBS2fUm3X2   \n",
              "3       176907         0  ['Ignacio Corsini']  5LiOoJbxVSAMkBS2fUm3X2   \n",
              "4       163080         0      ['Dick Haymes']  3BiJGZsyX9sJchTqcSA7Su   \n",
              "\n",
              "  release_date  danceability  energy  ...  loudness  mode  speechiness  \\\n",
              "0   1922-02-22         0.645  0.4450  ...   -13.338     1       0.4510   \n",
              "1   1922-06-01         0.695  0.2630  ...   -22.136     1       0.9570   \n",
              "2   1922-03-21         0.434  0.1770  ...   -21.180     1       0.0512   \n",
              "3   1922-03-21         0.321  0.0946  ...   -27.961     1       0.0504   \n",
              "4         1922         0.402  0.1580  ...   -16.900     0       0.0390   \n",
              "\n",
              "   acousticness  instrumentalness  liveness  valence    tempo  time_signature  \\\n",
              "0         0.674            0.7440     0.151    0.127  104.851               3   \n",
              "1         0.797            0.0000     0.148    0.655  102.009               1   \n",
              "2         0.994            0.0218     0.212    0.457  130.418               5   \n",
              "3         0.995            0.9180     0.104    0.397  169.980               3   \n",
              "4         0.989            0.1300     0.311    0.196  103.220               4   \n",
              "\n",
              "   release_year  \n",
              "0          1922  \n",
              "1          1922  \n",
              "2          1922  \n",
              "3          1922  \n",
              "4          1922  \n",
              "\n",
              "[5 rows x 21 columns]"
            ],
            "text/html": [
              "\n",
              "  <div id=\"df-9ab9f6a4-8346-4300-a9c5-8934caa36059\">\n",
              "    <div class=\"colab-df-container\">\n",
              "      <div>\n",
              "<style scoped>\n",
              "    .dataframe tbody tr th:only-of-type {\n",
              "        vertical-align: middle;\n",
              "    }\n",
              "\n",
              "    .dataframe tbody tr th {\n",
              "        vertical-align: top;\n",
              "    }\n",
              "\n",
              "    .dataframe thead th {\n",
              "        text-align: right;\n",
              "    }\n",
              "</style>\n",
              "<table border=\"1\" class=\"dataframe\">\n",
              "  <thead>\n",
              "    <tr style=\"text-align: right;\">\n",
              "      <th></th>\n",
              "      <th>id</th>\n",
              "      <th>name</th>\n",
              "      <th>popularity</th>\n",
              "      <th>duration_ms</th>\n",
              "      <th>explicit</th>\n",
              "      <th>artists</th>\n",
              "      <th>id_artists</th>\n",
              "      <th>release_date</th>\n",
              "      <th>danceability</th>\n",
              "      <th>energy</th>\n",
              "      <th>...</th>\n",
              "      <th>loudness</th>\n",
              "      <th>mode</th>\n",
              "      <th>speechiness</th>\n",
              "      <th>acousticness</th>\n",
              "      <th>instrumentalness</th>\n",
              "      <th>liveness</th>\n",
              "      <th>valence</th>\n",
              "      <th>tempo</th>\n",
              "      <th>time_signature</th>\n",
              "      <th>release_year</th>\n",
              "    </tr>\n",
              "  </thead>\n",
              "  <tbody>\n",
              "    <tr>\n",
              "      <th>0</th>\n",
              "      <td>35iwgR4jXetI318WEWsa1Q</td>\n",
              "      <td>Carve</td>\n",
              "      <td>6</td>\n",
              "      <td>126903</td>\n",
              "      <td>0</td>\n",
              "      <td>['Uli']</td>\n",
              "      <td>45tIt06XoI0Iio4LBEVpls</td>\n",
              "      <td>1922-02-22</td>\n",
              "      <td>0.645</td>\n",
              "      <td>0.4450</td>\n",
              "      <td>...</td>\n",
              "      <td>-13.338</td>\n",
              "      <td>1</td>\n",
              "      <td>0.4510</td>\n",
              "      <td>0.674</td>\n",
              "      <td>0.7440</td>\n",
              "      <td>0.151</td>\n",
              "      <td>0.127</td>\n",
              "      <td>104.851</td>\n",
              "      <td>3</td>\n",
              "      <td>1922</td>\n",
              "    </tr>\n",
              "    <tr>\n",
              "      <th>1</th>\n",
              "      <td>021ht4sdgPcrDgSk7JTbKY</td>\n",
              "      <td>Capítulo 2.16 - Banquero Anarquista</td>\n",
              "      <td>0</td>\n",
              "      <td>98200</td>\n",
              "      <td>0</td>\n",
              "      <td>['Fernando Pessoa']</td>\n",
              "      <td>14jtPCOoNZwquk5wd9DxrY</td>\n",
              "      <td>1922-06-01</td>\n",
              "      <td>0.695</td>\n",
              "      <td>0.2630</td>\n",
              "      <td>...</td>\n",
              "      <td>-22.136</td>\n",
              "      <td>1</td>\n",
              "      <td>0.9570</td>\n",
              "      <td>0.797</td>\n",
              "      <td>0.0000</td>\n",
              "      <td>0.148</td>\n",
              "      <td>0.655</td>\n",
              "      <td>102.009</td>\n",
              "      <td>1</td>\n",
              "      <td>1922</td>\n",
              "    </tr>\n",
              "    <tr>\n",
              "      <th>2</th>\n",
              "      <td>07A5yehtSnoedViJAZkNnc</td>\n",
              "      <td>Vivo para Quererte - Remasterizado</td>\n",
              "      <td>0</td>\n",
              "      <td>181640</td>\n",
              "      <td>0</td>\n",
              "      <td>['Ignacio Corsini']</td>\n",
              "      <td>5LiOoJbxVSAMkBS2fUm3X2</td>\n",
              "      <td>1922-03-21</td>\n",
              "      <td>0.434</td>\n",
              "      <td>0.1770</td>\n",
              "      <td>...</td>\n",
              "      <td>-21.180</td>\n",
              "      <td>1</td>\n",
              "      <td>0.0512</td>\n",
              "      <td>0.994</td>\n",
              "      <td>0.0218</td>\n",
              "      <td>0.212</td>\n",
              "      <td>0.457</td>\n",
              "      <td>130.418</td>\n",
              "      <td>5</td>\n",
              "      <td>1922</td>\n",
              "    </tr>\n",
              "    <tr>\n",
              "      <th>3</th>\n",
              "      <td>08FmqUhxtyLTn6pAh6bk45</td>\n",
              "      <td>El Prisionero - Remasterizado</td>\n",
              "      <td>0</td>\n",
              "      <td>176907</td>\n",
              "      <td>0</td>\n",
              "      <td>['Ignacio Corsini']</td>\n",
              "      <td>5LiOoJbxVSAMkBS2fUm3X2</td>\n",
              "      <td>1922-03-21</td>\n",
              "      <td>0.321</td>\n",
              "      <td>0.0946</td>\n",
              "      <td>...</td>\n",
              "      <td>-27.961</td>\n",
              "      <td>1</td>\n",
              "      <td>0.0504</td>\n",
              "      <td>0.995</td>\n",
              "      <td>0.9180</td>\n",
              "      <td>0.104</td>\n",
              "      <td>0.397</td>\n",
              "      <td>169.980</td>\n",
              "      <td>3</td>\n",
              "      <td>1922</td>\n",
              "    </tr>\n",
              "    <tr>\n",
              "      <th>4</th>\n",
              "      <td>08y9GfoqCWfOGsKdwojr5e</td>\n",
              "      <td>Lady of the Evening</td>\n",
              "      <td>0</td>\n",
              "      <td>163080</td>\n",
              "      <td>0</td>\n",
              "      <td>['Dick Haymes']</td>\n",
              "      <td>3BiJGZsyX9sJchTqcSA7Su</td>\n",
              "      <td>1922</td>\n",
              "      <td>0.402</td>\n",
              "      <td>0.1580</td>\n",
              "      <td>...</td>\n",
              "      <td>-16.900</td>\n",
              "      <td>0</td>\n",
              "      <td>0.0390</td>\n",
              "      <td>0.989</td>\n",
              "      <td>0.1300</td>\n",
              "      <td>0.311</td>\n",
              "      <td>0.196</td>\n",
              "      <td>103.220</td>\n",
              "      <td>4</td>\n",
              "      <td>1922</td>\n",
              "    </tr>\n",
              "  </tbody>\n",
              "</table>\n",
              "<p>5 rows × 21 columns</p>\n",
              "</div>\n",
              "      <button class=\"colab-df-convert\" onclick=\"convertToInteractive('df-9ab9f6a4-8346-4300-a9c5-8934caa36059')\"\n",
              "              title=\"Convert this dataframe to an interactive table.\"\n",
              "              style=\"display:none;\">\n",
              "        \n",
              "  <svg xmlns=\"http://www.w3.org/2000/svg\" height=\"24px\"viewBox=\"0 0 24 24\"\n",
              "       width=\"24px\">\n",
              "    <path d=\"M0 0h24v24H0V0z\" fill=\"none\"/>\n",
              "    <path d=\"M18.56 5.44l.94 2.06.94-2.06 2.06-.94-2.06-.94-.94-2.06-.94 2.06-2.06.94zm-11 1L8.5 8.5l.94-2.06 2.06-.94-2.06-.94L8.5 2.5l-.94 2.06-2.06.94zm10 10l.94 2.06.94-2.06 2.06-.94-2.06-.94-.94-2.06-.94 2.06-2.06.94z\"/><path d=\"M17.41 7.96l-1.37-1.37c-.4-.4-.92-.59-1.43-.59-.52 0-1.04.2-1.43.59L10.3 9.45l-7.72 7.72c-.78.78-.78 2.05 0 2.83L4 21.41c.39.39.9.59 1.41.59.51 0 1.02-.2 1.41-.59l7.78-7.78 2.81-2.81c.8-.78.8-2.07 0-2.86zM5.41 20L4 18.59l7.72-7.72 1.47 1.35L5.41 20z\"/>\n",
              "  </svg>\n",
              "      </button>\n",
              "      \n",
              "  <style>\n",
              "    .colab-df-container {\n",
              "      display:flex;\n",
              "      flex-wrap:wrap;\n",
              "      gap: 12px;\n",
              "    }\n",
              "\n",
              "    .colab-df-convert {\n",
              "      background-color: #E8F0FE;\n",
              "      border: none;\n",
              "      border-radius: 50%;\n",
              "      cursor: pointer;\n",
              "      display: none;\n",
              "      fill: #1967D2;\n",
              "      height: 32px;\n",
              "      padding: 0 0 0 0;\n",
              "      width: 32px;\n",
              "    }\n",
              "\n",
              "    .colab-df-convert:hover {\n",
              "      background-color: #E2EBFA;\n",
              "      box-shadow: 0px 1px 2px rgba(60, 64, 67, 0.3), 0px 1px 3px 1px rgba(60, 64, 67, 0.15);\n",
              "      fill: #174EA6;\n",
              "    }\n",
              "\n",
              "    [theme=dark] .colab-df-convert {\n",
              "      background-color: #3B4455;\n",
              "      fill: #D2E3FC;\n",
              "    }\n",
              "\n",
              "    [theme=dark] .colab-df-convert:hover {\n",
              "      background-color: #434B5C;\n",
              "      box-shadow: 0px 1px 3px 1px rgba(0, 0, 0, 0.15);\n",
              "      filter: drop-shadow(0px 1px 2px rgba(0, 0, 0, 0.3));\n",
              "      fill: #FFFFFF;\n",
              "    }\n",
              "  </style>\n",
              "\n",
              "      <script>\n",
              "        const buttonEl =\n",
              "          document.querySelector('#df-9ab9f6a4-8346-4300-a9c5-8934caa36059 button.colab-df-convert');\n",
              "        buttonEl.style.display =\n",
              "          google.colab.kernel.accessAllowed ? 'block' : 'none';\n",
              "\n",
              "        async function convertToInteractive(key) {\n",
              "          const element = document.querySelector('#df-9ab9f6a4-8346-4300-a9c5-8934caa36059');\n",
              "          const dataTable =\n",
              "            await google.colab.kernel.invokeFunction('convertToInteractive',\n",
              "                                                     [key], {});\n",
              "          if (!dataTable) return;\n",
              "\n",
              "          const docLinkHtml = 'Like what you see? Visit the ' +\n",
              "            '<a target=\"_blank\" href=https://colab.research.google.com/notebooks/data_table.ipynb>data table notebook</a>'\n",
              "            + ' to learn more about interactive tables.';\n",
              "          element.innerHTML = '';\n",
              "          dataTable['output_type'] = 'display_data';\n",
              "          await google.colab.output.renderOutput(dataTable, element);\n",
              "          const docLink = document.createElement('div');\n",
              "          docLink.innerHTML = docLinkHtml;\n",
              "          element.appendChild(docLink);\n",
              "        }\n",
              "      </script>\n",
              "    </div>\n",
              "  </div>\n",
              "  "
            ]
          },
          "metadata": {},
          "execution_count": 11
        }
      ]
    },
    {
      "cell_type": "code",
      "source": [
        "tracks_df = tracks_df[tracks_df['release_year']>=start_release_year]\n",
        "tracks_df = tracks_df[tracks_df['speechiness']<speechiness_level]"
      ],
      "metadata": {
        "id": "eVVgOy4aqjXU"
      },
      "execution_count": 12,
      "outputs": []
    },
    {
      "cell_type": "code",
      "source": [
        "artists_df.rename(columns = {'id': 'id_artists','popularity': 'artists_popularity'}, inplace = True)\n",
        "artists_df.drop(['genres','name'],axis = 1, inplace = True)"
      ],
      "metadata": {
        "id": "w5KKuLJkqn4E"
      },
      "execution_count": 13,
      "outputs": []
    },
    {
      "cell_type": "code",
      "source": [
        "tracks_df = tracks_df.merge(artists_df, on = 'id_artists')\n",
        "del artists_df"
      ],
      "metadata": {
        "id": "9EMFE-Hhqq87"
      },
      "execution_count": 14,
      "outputs": []
    },
    {
      "cell_type": "code",
      "source": [
        "tracks_df.drop(['id','id_artists','artists','name'], axis = 1, inplace = True)"
      ],
      "metadata": {
        "id": "dOufZfgUqw0r"
      },
      "execution_count": 15,
      "outputs": []
    },
    {
      "cell_type": "code",
      "source": [
        "tracks_df['release_date'] = pd.to_datetime(tracks_df['release_date'], format = '%Y-%m-%d')"
      ],
      "metadata": {
        "id": "TZ8adcBpq44h"
      },
      "execution_count": 16,
      "outputs": []
    },
    {
      "cell_type": "code",
      "source": [
        "tracks_df['delta_days'] = tracks_df['release_date'].max() - tracks_df['release_date']\n",
        "tracks_df['delta_days'] = tracks_df['delta_days'].view(dtype = int)"
      ],
      "metadata": {
        "id": "mjmCPrzwq7C9"
      },
      "execution_count": 17,
      "outputs": []
    },
    {
      "cell_type": "code",
      "source": [
        "tracks_df.isnull().sum() #no null values"
      ],
      "metadata": {
        "id": "ZbRmSSUwq9d4",
        "colab": {
          "base_uri": "https://localhost:8080/"
        },
        "outputId": "2bd28165-c40d-4773-93bb-1676f87e9290"
      },
      "execution_count": 18,
      "outputs": [
        {
          "output_type": "execute_result",
          "data": {
            "text/plain": [
              "popularity            0\n",
              "duration_ms           0\n",
              "explicit              0\n",
              "release_date          0\n",
              "danceability          0\n",
              "energy                0\n",
              "key                   0\n",
              "loudness              0\n",
              "mode                  0\n",
              "speechiness           0\n",
              "acousticness          0\n",
              "instrumentalness      0\n",
              "liveness              0\n",
              "valence               0\n",
              "tempo                 0\n",
              "time_signature        0\n",
              "release_year          0\n",
              "followers             0\n",
              "artists_popularity    0\n",
              "delta_days            0\n",
              "dtype: int64"
            ]
          },
          "metadata": {},
          "execution_count": 18
        }
      ]
    },
    {
      "cell_type": "code",
      "source": [
        "corr = tracks_df.corr()"
      ],
      "metadata": {
        "id": "saYsG5eCsCET"
      },
      "execution_count": 19,
      "outputs": []
    },
    {
      "cell_type": "code",
      "source": [
        "corr['popularity'][np.absolute(corr['popularity'])>corr_par].sort_values(ascending = False)"
      ],
      "metadata": {
        "id": "C41KxZ6_sX6Q",
        "colab": {
          "base_uri": "https://localhost:8080/"
        },
        "outputId": "52885171-1daa-47dc-c8fe-4911941a36f4"
      },
      "execution_count": 20,
      "outputs": [
        {
          "output_type": "execute_result",
          "data": {
            "text/plain": [
              "popularity            1.000000\n",
              "artists_popularity    0.571956\n",
              "followers             0.164017\n",
              "explicit              0.150017\n",
              "release_year          0.142030\n",
              "danceability          0.119296\n",
              "loudness              0.108960\n",
              "delta_days           -0.138108\n",
              "instrumentalness     -0.288239\n",
              "Name: popularity, dtype: float64"
            ]
          },
          "metadata": {},
          "execution_count": 20
        }
      ]
    },
    {
      "cell_type": "code",
      "source": [
        "fig, ax = plt.subplots(figsize= (15,10))\n",
        "sns.heatmap(corr[np.absolute(corr)>corr_par], annot = True, cmap='Spectral')"
      ],
      "metadata": {
        "id": "V-u9k6KqspQ4",
        "colab": {
          "base_uri": "https://localhost:8080/",
          "height": 689
        },
        "outputId": "bf79a7e5-5a1d-447d-8153-fe28bc9cf6e1"
      },
      "execution_count": 21,
      "outputs": [
        {
          "output_type": "execute_result",
          "data": {
            "text/plain": [
              "<matplotlib.axes._subplots.AxesSubplot at 0x7f350c22bb10>"
            ]
          },
          "metadata": {},
          "execution_count": 21
        },
        {
          "output_type": "display_data",
          "data": {
            "text/plain": [
              "<Figure size 1080x720 with 2 Axes>"
            ],
            "image/png": "[encoded data removed]"
          },
          "metadata": {
            "needs_background": "light"
          }
        }
      ]
    },
    {
      "cell_type": "code",
      "source": [
        "fig = plt.figure(figsize=(15,6))\n",
        "fig.add_subplot(1,1,1)\n",
        "ax = sns.countplot(data = tracks_df, x='popularity')\n",
        "ax.set_xticklabels(ax.get_xticklabels(), rotation=90, ha=\"left\")\n",
        "plt.tight_layout()\n",
        "plt.show()\n",
        "\n"
      ],
      "metadata": {
        "id": "mqkDfyVxNr37",
        "colab": {
          "base_uri": "https://localhost:8080/",
          "height": 441
        },
        "outputId": "1e80c034-64a9-47c0-e396-625dac11e0fd"
      },
      "execution_count": 22,
      "outputs": [
        {
          "output_type": "display_data",
          "data": {
            "text/plain": [
              "<Figure size 1080x432 with 1 Axes>"
            ],
            "image/png": "[encoded data removed]"
          },
          "metadata": {
            "needs_background": "light"
          }
        }
      ]
    },
    {
      "cell_type": "code",
      "source": [
        "features_columns = corr['popularity'][np.absolute(corr['popularity'])>corr_par].index.to_list()\n",
        "\n",
        "print(f'Features used: {features_columns}')\n",
        "print('')\n",
        "\n",
        "X = tracks_df[features_columns].drop(['popularity'],axis = 1)\n",
        "y = tracks_df['popularity']"
      ],
      "metadata": {
        "id": "XHALTCggtXdR",
        "colab": {
          "base_uri": "https://localhost:8080/"
        },
        "outputId": "be6be398-9612-457d-9cc0-9f365088f51f"
      },
      "execution_count": 23,
      "outputs": [
        {
          "output_type": "stream",
          "name": "stdout",
          "text": [
            "Features used: ['popularity', 'explicit', 'danceability', 'loudness', 'instrumentalness', 'release_year', 'followers', 'artists_popularity', 'delta_days']\n",
            "\n"
          ]
        }
      ]
    },
    {
      "cell_type": "code",
      "source": [
        "#Train and test dataset preparation\n",
        "\n",
        "X_train, X_test, y_train, y_test = train_test_split(X, y, test_size = 0.2, random_state = seed)\n",
        "\n",
        "del X, y\n",
        "\n",
        "print(f'X_y_train shape: {X_train.shape} {y_train.shape}' )\n",
        "print(f'X_y_test shape: {X_test.shape} {y_test.shape}' )"
      ],
      "metadata": {
        "id": "zSn9zsb9tM9b",
        "colab": {
          "base_uri": "https://localhost:8080/"
        },
        "outputId": "5f71d3ff-8c5d-4010-a2b5-e92883c34698"
      },
      "execution_count": 24,
      "outputs": [
        {
          "output_type": "stream",
          "name": "stdout",
          "text": [
            "X_y_train shape: (81946, 8) (81946,)\n",
            "X_y_test shape: (20487, 8) (20487,)\n"
          ]
        }
      ]
    },
    {
      "cell_type": "markdown",
      "source": [
        "Decision Tree Classifier"
      ],
      "metadata": {
        "id": "02WKwmRKYhQL"
      }
    },
    {
      "cell_type": "markdown",
      "source": [
        "Regression algorithms generally are used in presence of continuous values such as price, salary, etc., while Classification algorithms are used to predict/Classify the discrete values. Even if popularity are set as discrete variabile, it is more similar to continuous variable, therefore we expect a better performance on Regression algorithms"
      ],
      "metadata": {
        "id": "K68Wu_CwzTOl"
      }
    },
    {
      "cell_type": "code",
      "source": [
        "bonsai_c = tree.DecisionTreeClassifier(random_state=seed)\n",
        "bonsai_c.fit(X_train, y_train)"
      ],
      "metadata": {
        "id": "97WJXr1FYg5v",
        "colab": {
          "base_uri": "https://localhost:8080/"
        },
        "outputId": "eef306a4-2d6c-496f-b3bc-387f97a9b296"
      },
      "execution_count": 25,
      "outputs": [
        {
          "output_type": "execute_result",
          "data": {
            "text/plain": [
              "DecisionTreeClassifier(random_state=42)"
            ]
          },
          "metadata": {},
          "execution_count": 25
        }
      ]
    },
    {
      "cell_type": "code",
      "source": [
        "bonsai_c_pred = bonsai_c.predict(X_test)\n",
        "rmse_bonsai_c = mean_squared_error(y_test, bonsai_c_pred, squared=False)\n",
        "\n",
        "print('---Decision Tree Classifier---')\n",
        "print(f'Score: {bonsai_c.score(X_test,y_test)}')\n",
        "print(f'Error: {(1-bonsai_c.score(X_test,y_test))*100:.4}%')\n",
        "print(f'RMSE: {round(rmse_bonsai_c,4)}')\n"
      ],
      "metadata": {
        "id": "GXZ-xNwGa6FL",
        "colab": {
          "base_uri": "https://localhost:8080/"
        },
        "outputId": "eb31b379-2a0a-4c49-de76-e41d2f239da1"
      },
      "execution_count": 26,
      "outputs": [
        {
          "output_type": "stream",
          "name": "stdout",
          "text": [
            "---Decision Tree Classifier---\n",
            "Score: 0.07931859227802997\n",
            "Error: 92.07%\n",
            "RMSE: 14.2756\n"
          ]
        }
      ]
    },
    {
      "cell_type": "markdown",
      "source": [
        "Decision Tree Regressor"
      ],
      "metadata": {
        "id": "wrHYWSNY_TeO"
      }
    },
    {
      "cell_type": "code",
      "source": [
        "bonsai_r = tree.DecisionTreeRegressor(random_state=seed)\n",
        "bonsai_r.fit(X_train, y_train)"
      ],
      "metadata": {
        "id": "8fJ-XK9L_Y9Z",
        "colab": {
          "base_uri": "https://localhost:8080/"
        },
        "outputId": "7bdd610e-d2e0-49c5-87c4-ae75caff6c50"
      },
      "execution_count": 27,
      "outputs": [
        {
          "output_type": "execute_result",
          "data": {
            "text/plain": [
              "DecisionTreeRegressor(random_state=42)"
            ]
          },
          "metadata": {},
          "execution_count": 27
        }
      ]
    },
    {
      "cell_type": "code",
      "source": [
        "bonsai_r_pred = bonsai_r.predict(X_test)\n",
        "rmse_bonsai_r = mean_squared_error(y_test, bonsai_r_pred, squared=False)\n",
        "\n",
        "print('---Decision Tree Classifier---')\n",
        "print(f'Score: {bonsai_r.score(X_test,y_test)}')\n",
        "print(f'Error: {(1-bonsai_r.score(X_test,y_test))*100:.4}%')\n",
        "print(f'RMSE: {round(rmse_bonsai_r,4)}')\n"
      ],
      "metadata": {
        "id": "OyGV1mFn_i6-",
        "colab": {
          "base_uri": "https://localhost:8080/"
        },
        "outputId": "fb2f6429-116d-4165-d112-e6785ba5b678"
      },
      "execution_count": 28,
      "outputs": [
        {
          "output_type": "stream",
          "name": "stdout",
          "text": [
            "---Decision Tree Classifier---\n",
            "Score: 0.47072379397254704\n",
            "Error: 52.93%\n",
            "RMSE: 13.5916\n"
          ]
        }
      ]
    },
    {
      "cell_type": "markdown",
      "source": [
        "Random Forest Classifier"
      ],
      "metadata": {
        "id": "a_aQeXrjcIcQ"
      }
    },
    {
      "cell_type": "code",
      "source": [
        "clf = RandomForestClassifier(random_state=seed)\n",
        "clf.fit(X_train,y_train)\n",
        "\n",
        "clf_pred = clf.predict(X_test)\n",
        "rmse_clf = mean_squared_error(y_test, clf_pred, squared=False)\n",
        "\n",
        "print('---Random Forest Classifier---')\n",
        "print(f'Score: {clf.score(X_test,y_test)}')\n",
        "print(f'Error: {(1-clf.score(X_test,y_test))*100:.4}%')\n",
        "print(f'RMSE: {round(rmse_clf,4)}')\n",
        "print('')\n"
      ],
      "metadata": {
        "id": "DB6F40A4d0V4",
        "colab": {
          "base_uri": "https://localhost:8080/"
        },
        "outputId": "017337b0-a6d0-448e-8ea3-e82f03d90f4d"
      },
      "execution_count": 29,
      "outputs": [
        {
          "output_type": "stream",
          "name": "stdout",
          "text": [
            "---Random Forest Classifier---\n",
            "Score: 0.09332747596036511\n",
            "Error: 90.67%\n",
            "RMSE: 12.7992\n",
            "\n"
          ]
        }
      ]
    },
    {
      "cell_type": "markdown",
      "source": [
        "Random Forest Regression"
      ],
      "metadata": {
        "id": "D9Ldf46HYR2C"
      }
    },
    {
      "cell_type": "code",
      "source": [
        "train_results = []\n",
        "test_results = []\n",
        "train_score = []\n",
        "test_score = []\n",
        "\n",
        "list_nb_trees = [5, 10, 15, 30, 45, 60, 80, 100, 150, 200, 300]\n",
        "\n",
        "print('---Random Forest Regressor---')\n",
        "\n",
        "for nb_trees in list_nb_trees:\n",
        "    rfr = RandomForestRegressor(n_estimators=nb_trees, random_state = seed)\n",
        "    rfr.fit(X_train, y_train)\n",
        "\n",
        "    train_results.append(mean_squared_error(y_train, rfr.predict(X_train), squared=False))\n",
        "    test_results.append(mean_squared_error(y_test, rfr.predict(X_test), squared=False))\n",
        "    train_score.append(rfr.score(X_train, y_train))\n",
        "    test_score.append(rfr.score(X_test, y_test))\n",
        "\n",
        "    rfr_pred = rfr.predict(X_test)\n",
        "    rmse_rfr = mean_squared_error(y_test, rfr_pred, squared=False)\n",
        "  \n",
        "    print(f'---- For n_estimators = {nb_trees} ---')\n",
        "    print(f'score: {rfr.score(X_test,y_test)}')\n",
        "    print(f'Error: {(1-rfr.score(X_test,y_test))*100:.4}%')\n",
        "    print(f'RMSE: {round(rmse_rfr,4)}')\n"
      ],
      "metadata": {
        "id": "pSZcpacz5yOJ",
        "colab": {
          "base_uri": "https://localhost:8080/"
        },
        "outputId": "c1a06091-5a4c-43e2-f97a-165e2f2c8f19"
      },
      "execution_count": 30,
      "outputs": [
        {
          "output_type": "stream",
          "name": "stdout",
          "text": [
            "---Random Forest Regressor---\n",
            "---- For n_estimators = 5 ---\n",
            "score: 0.6547478528890027\n",
            "Error: 34.53%\n",
            "RMSE: 10.9773\n",
            "---- For n_estimators = 10 ---\n",
            "score: 0.6873504987601602\n",
            "Error: 31.26%\n",
            "RMSE: 10.4462\n",
            "---- For n_estimators = 15 ---\n",
            "score: 0.6978058424720616\n",
            "Error: 30.22%\n",
            "RMSE: 10.27\n",
            "---- For n_estimators = 30 ---\n",
            "score: 0.7087440805871554\n",
            "Error: 29.13%\n",
            "RMSE: 10.0824\n",
            "---- For n_estimators = 45 ---\n",
            "score: 0.7131180739300045\n",
            "Error: 28.69%\n",
            "RMSE: 10.0064\n",
            "---- For n_estimators = 60 ---\n",
            "score: 0.7146499451332224\n",
            "Error: 28.54%\n",
            "RMSE: 9.9797\n",
            "---- For n_estimators = 80 ---\n",
            "score: 0.7168256795347054\n",
            "Error: 28.32%\n",
            "RMSE: 9.9416\n",
            "---- For n_estimators = 100 ---\n",
            "score: 0.7180123940330545\n",
            "Error: 28.2%\n",
            "RMSE: 9.9207\n",
            "---- For n_estimators = 150 ---\n",
            "score: 0.7184884207287583\n",
            "Error: 28.15%\n",
            "RMSE: 9.9123\n",
            "---- For n_estimators = 200 ---\n",
            "score: 0.7191392691185787\n",
            "Error: 28.09%\n",
            "RMSE: 9.9009\n",
            "---- For n_estimators = 300 ---\n",
            "score: 0.7200146429314541\n",
            "Error: 28.0%\n",
            "RMSE: 9.8854\n"
          ]
        }
      ]
    },
    {
      "cell_type": "code",
      "source": [
        "#Plot RMSE and score for different n_estimators\n",
        "\n",
        "line1, = plt.plot(list_nb_trees, train_results, color=\"r\", label=\"Training\")\n",
        "line2, = plt.plot(list_nb_trees, test_results, color=\"g\", label=\"Testing\")\n",
        "\n",
        "plt.legend(handler_map={line1: HandlerLine2D(numpoints=2)})\n",
        "plt.ylabel('RMSE')\n",
        "plt.xlabel('n_estimators')\n",
        "plt.show()\n",
        "\n",
        "print('------------')\n",
        "\n",
        "line1, = plt.plot(list_nb_trees, train_score, color=\"r\", label=\"Training\")\n",
        "line2, = plt.plot(list_nb_trees, test_score, color=\"g\", label=\"Testing\")\n",
        "\n",
        "plt.legend(handler_map={line1: HandlerLine2D(numpoints=2)})\n",
        "plt.ylabel('score')\n",
        "plt.xlabel('n_estimators')\n",
        "plt.show()"
      ],
      "metadata": {
        "id": "ddYvcDZEinse",
        "colab": {
          "base_uri": "https://localhost:8080/",
          "height": 560
        },
        "outputId": "a176e328-fee1-4829-8df1-2ab297181d5d"
      },
      "execution_count": 31,
      "outputs": [
        {
          "output_type": "display_data",
          "data": {
            "text/plain": [
              "<Figure size 432x288 with 1 Axes>"
            ],
            "image/png": "[encoded data removed]"
          },
          "metadata": {
            "needs_background": "light"
          }
        },
        {
          "output_type": "stream",
          "name": "stdout",
          "text": [
            "------------\n"
          ]
        },
        {
          "output_type": "display_data",
          "data": {
            "text/plain": [
              "<Figure size 432x288 with 1 Axes>"
            ],
            "image/png": "[encoded data removed]"
          },
          "metadata": {
            "needs_background": "light"
          }
        }
      ]
    },
    {
      "cell_type": "code",
      "source": [
        "features = X_train.columns\n",
        "plt.barh(y=features, width = rfr.feature_importances_)"
      ],
      "metadata": {
        "id": "l4PrPWluoWbi",
        "colab": {
          "base_uri": "https://localhost:8080/",
          "height": 282
        },
        "outputId": "30620c9b-a77e-42f5-852e-5fec7cdc5b46"
      },
      "execution_count": 32,
      "outputs": [
        {
          "output_type": "execute_result",
          "data": {
            "text/plain": [
              "<BarContainer object of 8 artists>"
            ]
          },
          "metadata": {},
          "execution_count": 32
        },
        {
          "output_type": "display_data",
          "data": {
            "text/plain": [
              "<Figure size 432x288 with 1 Axes>"
            ],
            "image/png": "[encoded data removed]"
          },
          "metadata": {
            "needs_background": "light"
          }
        }
      ]
    },
    {
      "cell_type": "markdown",
      "source": [],
      "metadata": {
        "id": "2uP6aEWk-2rS"
      }
    },
    {
      "cell_type": "markdown",
      "source": [
        "XGB"
      ],
      "metadata": {
        "id": "xcfMIfxnf--z"
      }
    },
    {
      "cell_type": "code",
      "source": [
        "def objective(trial):\n",
        "\n",
        "  parameter = {\n",
        "    'tree_method':'gpu_hist',  # using the GPU when training our model to speedup the training process\n",
        "    \"n_estimators\" : trial.suggest_int('n_estimators', 1e-4, 500), # set integer parameters between 1e-3 and 500 for estimators\n",
        "    'max_depth':trial.suggest_int('max_depth', 3,20), # set integer parameters between 3 and 20 for depth\n",
        "    'alpha':trial.suggest_loguniform('alpha',1e-4,6), # set a log distribution between 1e-3 and 6 for alpha\n",
        "    'lambda':trial.suggest_loguniform('lambda',1e-4,2), # set a log distribution between 1e-3 and 2 for lambda\n",
        "    'min_child_weight':trial.suggest_int('min_child_weight',0,6), # show integer parameters between 0 and 1e-4 for childweight\n",
        "    'gamma':trial.suggest_loguniform('gamma', 1e-4, 2), # set a log distribution between 1e-3 and 2 for gamma\n",
        "    'learning_rate':trial.suggest_loguniform('learning_rate',0.01,0.25), # set a log distribution between 0.01 and 0.25 for learning rate\n",
        "    'colsample_bytree':trial.suggest_uniform('colsample_bytree',0.3,1), # set a uniformly distributed numbers between 0.3 and 1 for colsample_bytree\n",
        "    'subsample':trial.suggest_uniform('subsample',0.4,1), #set a uniformly distributed numbers between 0.4 and 1 for colsample_bytree\n",
        "    'random_state': trial.suggest_categorical('random_state', [seed]), #set random state\n",
        "    'early_stopping_rounds': 150\n",
        "  }\n",
        "\n",
        "  mod = xgb.XGBRegressor(**parameter) \n",
        "  mod.fit(X_train,y_train,eval_set=[(X_test,y_test)],verbose=False)\n",
        "  preds = mod.predict(X_test)\n",
        "  rmse = mean_squared_error(y_test, preds,squared=False)\n",
        "      \n",
        "  return rmse"
      ],
      "metadata": {
        "id": "wR1B3yJJ2jys"
      },
      "execution_count": 33,
      "outputs": []
    },
    {
      "cell_type": "code",
      "source": [
        "#study = optuna.create_study(direction='minimize')\n",
        "#study.optimize(objective, n_trials=50)\n",
        "#print('Number of finished trials:', len(study.trials))\n",
        "#print('Best trial:', study.best_trial.params)"
      ],
      "metadata": {
        "id": "-t3wKRAYSYC0"
      },
      "execution_count": null,
      "outputs": []
    },
    {
      "cell_type": "code",
      "source": [
        "#############random_state = 42 early_stopping_round = 150################\n",
        "\n",
        "#Best trial: {'n_estimators': 488, \n",
        "#'max_depth': 19, \n",
        "#'alpha': 0.003431371055296491, \n",
        "#'lambda': 0.754421617523184, \n",
        "#'min_child_weight': 4, \n",
        "#'gamma': 0.919210539476634, \n",
        "#'learning_rate': 0.012301994436985082, \n",
        "#'colsample_bytree': 0.9400077942818367, \n",
        "#'subsample': 0.9548337667235431, \n",
        "#'random_state': 42}\n",
        "\n",
        "parameter = {\n",
        "  'tree_method':'gpu_hist',  \n",
        "  'n_estimators': 488, \n",
        "  'max_depth': 19, \n",
        "  'alpha': 0.003431371055296491, \n",
        "  'lambda': 0.754421617523184, \n",
        "  'min_child_weight': 4, \n",
        "  'gamma': 0.919210539476634, \n",
        "  'learning_rate': 0.012301994436985082, \n",
        "  'colsample_bytree': 0.9400077942818367, \n",
        "  'subsample': 0.9548337667235431, \n",
        "  'random_state': seed\n",
        "  }\n",
        "\n",
        "# fit model no training data\n",
        "ev_metric = ['rmse', 'error']\n",
        "xbg_model = xgb.XGBRegressor(**parameter)\n",
        "eval_set = [(X_train, y_train), (X_test, y_test)]\n",
        "xbg_model.fit(X_train, \n",
        "          y_train, \n",
        "          eval_metric = ev_metric , #'rmse',''error',...\n",
        "          eval_set=eval_set, \n",
        "          verbose=False)\n",
        "\n",
        "results = xbg_model.evals_result()\n",
        "\n",
        "#xbg_model.fit(X_train, y_train)\n",
        "\n",
        "# make predictions for test data\n",
        "y_pred = xbg_model.predict(X_test)\n",
        "predictions = [round(value) for value in y_pred]\n",
        "# evaluate predictions\n",
        "accuracy = xbg_model.score(X_test,y_test)\n",
        "print(\"Score: %.2f%%\" % (accuracy * 100.0))"
      ],
      "metadata": {
        "id": "dDI3NKHcbXhf",
        "colab": {
          "base_uri": "https://localhost:8080/"
        },
        "outputId": "216c624a-6032-4813-eeb5-6686d8c38bdc"
      },
      "execution_count": 34,
      "outputs": [
        {
          "output_type": "stream",
          "name": "stdout",
          "text": [
            "[18:54:00] WARNING: /workspace/src/objective/regression_obj.cu:152: reg:linear is now deprecated in favor of reg:squarederror.\n",
            "Score: 72.81%\n"
          ]
        }
      ]
    },
    {
      "cell_type": "code",
      "source": [
        "epochs = len(results['validation_0'][ev_metric[0]]) \n",
        "x_axis = range(0, epochs)\n",
        "\n",
        "for i in ev_metric:\n",
        "  fig, ax = plt.subplots()\n",
        "  ax.plot(x_axis, results['validation_0'][i], label='Train') \n",
        "  ax.plot(x_axis, results['validation_1'][i], label='Test') \n",
        "  ax.legend()\n",
        "  plt.xlabel('Epochs')\n",
        "  plt.ylabel('rmse')\n",
        "  plt.title(f'XGBoost {i} learning curve')\n",
        "  plt.xticks(np.arange(0, 500, 50))\n",
        "  plt.show()\n",
        "\n",
        "  print('-------------------------')"
      ],
      "metadata": {
        "id": "X8WViSVYhMEE",
        "colab": {
          "base_uri": "https://localhost:8080/",
          "height": 608
        },
        "outputId": "58944616-4524-49ce-da73-c57c042e3d28"
      },
      "execution_count": 35,
      "outputs": [
        {
          "output_type": "display_data",
          "data": {
            "text/plain": [
              "<Figure size 432x288 with 1 Axes>"
            ],
            "image/png": "[encoded data removed]"
          },
          "metadata": {
            "needs_background": "light"
          }
        },
        {
          "output_type": "stream",
          "name": "stdout",
          "text": [
            "-------------------------\n"
          ]
        },
        {
          "output_type": "display_data",
          "data": {
            "text/plain": [
              "<Figure size 432x288 with 1 Axes>"
            ],
            "image/png": "[encoded data removed]"
          },
          "metadata": {
            "needs_background": "light"
          }
        },
        {
          "output_type": "stream",
          "name": "stdout",
          "text": [
            "-------------------------\n"
          ]
        }
      ]
    },
    {
      "cell_type": "markdown",
      "source": [
        "Outcome"
      ],
      "metadata": {
        "id": "1Wt0Q0kx7_AA"
      }
    },
    {
      "cell_type": "code",
      "source": [
        "print('--- Decision Tree Classifier ---')\n",
        "print(\"Score: %.2f%%\" % (bonsai_c.score(X_test,y_test) * 100.0))\n",
        "print(\"\")\n",
        "print('--- Decision Tree Regressor ---')\n",
        "print(\"Score: %.2f%%\" % (bonsai_r.score(X_test,y_test) * 100.0))\n",
        "print(\"\")\n",
        "print('--- Random Forest Classifier ---')\n",
        "print(\"Score: %.2f%%\" % (clf.score(X_test,y_test) * 100.0))\n",
        "print(\"\")\n",
        "print('--- Random Forest Regressor ---')\n",
        "print(\"Score: %.2f%%\" %  (rfr.score(X_test,y_test) * 100.0))\n",
        "print(\"\")\n",
        "print('--- XGB---')\n",
        "print(\"Score: %.2f%%\" % (xbg_model.score(X_test,y_test) * 100.0))\n"
      ],
      "metadata": {
        "id": "2OO0tZO374WU",
        "colab": {
          "base_uri": "https://localhost:8080/"
        },
        "outputId": "e3f6f647-fe29-43aa-9698-8d7119783794"
      },
      "execution_count": 36,
      "outputs": [
        {
          "output_type": "stream",
          "name": "stdout",
          "text": [
            "--- Decision Tree Classifier ---\n",
            "Score: 7.93%\n",
            "\n",
            "--- Decision Tree Regressor ---\n",
            "Score: 47.07%\n",
            "\n",
            "--- Random Forest Classifier ---\n",
            "Score: 9.33%\n",
            "\n",
            "--- Random Forest Regressor ---\n",
            "Score: 72.00%\n",
            "\n",
            "--- XGB---\n",
            "Score: 72.81%\n"
          ]
        }
      ]
    }
  ]
}